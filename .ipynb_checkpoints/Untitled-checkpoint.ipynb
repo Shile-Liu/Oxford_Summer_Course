{
 "cells": [
  {
   "cell_type": "markdown",
   "id": "3ffdf921",
   "metadata": {},
   "source": [
    "# Task 1"
   ]
  },
  {
   "cell_type": "markdown",
   "id": "25b32908",
   "metadata": {},
   "source": [
    "Import the necessary libraries."
   ]
  },
  {
   "cell_type": "code",
   "execution_count": 14,
   "id": "597c788c",
   "metadata": {},
   "outputs": [],
   "source": [
    "import pandas as pd\n",
    "import missingno as msno"
   ]
  },
  {
   "cell_type": "markdown",
   "id": "bd0d3dbb",
   "metadata": {},
   "source": [
    "## 1.1 Get the data and do a basic review of the data"
   ]
  },
  {
   "cell_type": "markdown",
   "id": "b787d323",
   "metadata": {},
   "source": [
    "Read in the data-set."
   ]
  },
  {
   "cell_type": "code",
   "execution_count": null,
   "id": "f4d920f3",
   "metadata": {},
   "outputs": [],
   "source": [
    "ast1 = pd.read_csv('China Aug 2022 Asteroid 1.csv')"
   ]
  },
  {
   "cell_type": "markdown",
   "id": "238e19ff",
   "metadata": {},
   "source": [
    "Determine the size and shape of the data."
   ]
  },
  {
   "cell_type": "code",
   "execution_count": null,
   "id": "409aa91d",
   "metadata": {},
   "outputs": [],
   "source": [
    "ast1.shape"
   ]
  },
  {
   "cell_type": "markdown",
   "id": "d70fc0fe",
   "metadata": {},
   "source": [
    "Determine the types of each feature in the data-set."
   ]
  },
  {
   "cell_type": "code",
   "execution_count": null,
   "id": "3fe81fba",
   "metadata": {},
   "outputs": [],
   "source": [
    "ast1.dtypes"
   ]
  },
  {
   "cell_type": "markdown",
   "id": "8057653d",
   "metadata": {},
   "source": [
    "Here is have decided to display only the first 10 rows of data."
   ]
  },
  {
   "cell_type": "code",
   "execution_count": null,
   "id": "47403d92",
   "metadata": {},
   "outputs": [],
   "source": [
    "ast1[1:10]"
   ]
  },
  {
   "cell_type": "markdown",
   "id": "5173339b",
   "metadata": {},
   "source": [
    "## 1.2 Do some data cleansing: Detecting and fixing defects in data"
   ]
  },
  {
   "cell_type": "markdown",
   "id": "24ec121c",
   "metadata": {},
   "source": [
    "Plot a graphic that visualises missing data."
   ]
  },
  {
   "cell_type": "code",
   "execution_count": null,
   "id": "db890c05",
   "metadata": {},
   "outputs": [],
   "source": [
    "msno.matrix(df)"
   ]
  },
  {
   "cell_type": "markdown",
   "id": "ff9b77e8",
   "metadata": {},
   "source": [
    "Next draw a bar-chart that counts the number of missing items in each feature."
   ]
  },
  {
   "cell_type": "code",
   "execution_count": null,
   "id": "6ae331ce",
   "metadata": {},
   "outputs": [],
   "source": [
    "msno.bar(df)"
   ]
  },
  {
   "cell_type": "code",
   "execution_count": null,
   "id": "bb8cfedf",
   "metadata": {},
   "outputs": [],
   "source": []
  }
 ],
 "metadata": {
  "kernelspec": {
   "display_name": "Python 3 (ipykernel)",
   "language": "python",
   "name": "python3"
  },
  "language_info": {
   "codemirror_mode": {
    "name": "ipython",
    "version": 3
   },
   "file_extension": ".py",
   "mimetype": "text/x-python",
   "name": "python",
   "nbconvert_exporter": "python",
   "pygments_lexer": "ipython3",
   "version": "3.9.12"
  }
 },
 "nbformat": 4,
 "nbformat_minor": 5
}
